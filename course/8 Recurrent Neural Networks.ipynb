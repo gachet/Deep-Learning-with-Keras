{
 "cells": [
  {
   "cell_type": "markdown",
   "metadata": {},
   "source": [
    "# Recurrent Neural Networks"
   ]
  },
  {
   "cell_type": "code",
   "execution_count": 1,
   "metadata": {},
   "outputs": [],
   "source": [
    "import pandas as pd\n",
    "import numpy as np\n",
    "%matplotlib inline\n",
    "import matplotlib.pyplot as plt"
   ]
  },
  {
   "cell_type": "markdown",
   "metadata": {},
   "source": [
    "## Time series forecasting"
   ]
  },
  {
   "cell_type": "code",
   "execution_count": 2,
   "metadata": {},
   "outputs": [
    {
     "data": {
      "text/html": [
       "<div>\n",
       "<style scoped>\n",
       "    .dataframe tbody tr th:only-of-type {\n",
       "        vertical-align: middle;\n",
       "    }\n",
       "\n",
       "    .dataframe tbody tr th {\n",
       "        vertical-align: top;\n",
       "    }\n",
       "\n",
       "    .dataframe thead th {\n",
       "        text-align: right;\n",
       "    }\n",
       "</style>\n",
       "<table border=\"1\" class=\"dataframe\">\n",
       "  <thead>\n",
       "    <tr style=\"text-align: right;\">\n",
       "      <th></th>\n",
       "      <th>Adjustments</th>\n",
       "      <th>Unadjusted</th>\n",
       "      <th>Seasonally adjusted</th>\n",
       "    </tr>\n",
       "  </thead>\n",
       "  <tbody>\n",
       "    <tr>\n",
       "      <th>0</th>\n",
       "      <td>Jan-1991</td>\n",
       "      <td>12588862</td>\n",
       "      <td>15026890</td>\n",
       "    </tr>\n",
       "    <tr>\n",
       "      <th>1</th>\n",
       "      <td>Feb-1991</td>\n",
       "      <td>12154321</td>\n",
       "      <td>15304585</td>\n",
       "    </tr>\n",
       "    <tr>\n",
       "      <th>2</th>\n",
       "      <td>Mar-1991</td>\n",
       "      <td>14337072</td>\n",
       "      <td>15413591</td>\n",
       "    </tr>\n",
       "    <tr>\n",
       "      <th>3</th>\n",
       "      <td>Apr-1991</td>\n",
       "      <td>15108570</td>\n",
       "      <td>15293409</td>\n",
       "    </tr>\n",
       "    <tr>\n",
       "      <th>4</th>\n",
       "      <td>May-1991</td>\n",
       "      <td>17225734</td>\n",
       "      <td>15676083</td>\n",
       "    </tr>\n",
       "  </tbody>\n",
       "</table>\n",
       "</div>"
      ],
      "text/plain": [
       "  Adjustments  Unadjusted  Seasonally adjusted\n",
       "0    Jan-1991    12588862             15026890\n",
       "1    Feb-1991    12154321             15304585\n",
       "2    Mar-1991    14337072             15413591\n",
       "3    Apr-1991    15108570             15293409\n",
       "4    May-1991    17225734             15676083"
      ]
     },
     "execution_count": 2,
     "metadata": {},
     "output_type": "execute_result"
    }
   ],
   "source": [
    "df = pd.read_csv('../data/cansim-0800020-eng-6674700030567901031.csv',\n",
    "                 skiprows=6, skipfooter=9,\n",
    "                 engine='python')\n",
    "df.head()"
   ]
  },
  {
   "cell_type": "code",
   "execution_count": 3,
   "metadata": {},
   "outputs": [],
   "source": [
    "from pandas.tseries.offsets import MonthEnd"
   ]
  },
  {
   "cell_type": "code",
   "execution_count": 4,
   "metadata": {},
   "outputs": [
    {
     "data": {
      "text/html": [
       "<div>\n",
       "<style scoped>\n",
       "    .dataframe tbody tr th:only-of-type {\n",
       "        vertical-align: middle;\n",
       "    }\n",
       "\n",
       "    .dataframe tbody tr th {\n",
       "        vertical-align: top;\n",
       "    }\n",
       "\n",
       "    .dataframe thead th {\n",
       "        text-align: right;\n",
       "    }\n",
       "</style>\n",
       "<table border=\"1\" class=\"dataframe\">\n",
       "  <thead>\n",
       "    <tr style=\"text-align: right;\">\n",
       "      <th></th>\n",
       "      <th>Unadjusted</th>\n",
       "      <th>Seasonally adjusted</th>\n",
       "    </tr>\n",
       "    <tr>\n",
       "      <th>Adjustments</th>\n",
       "      <th></th>\n",
       "      <th></th>\n",
       "    </tr>\n",
       "  </thead>\n",
       "  <tbody>\n",
       "    <tr>\n",
       "      <th>1991-01-31</th>\n",
       "      <td>12588862</td>\n",
       "      <td>15026890</td>\n",
       "    </tr>\n",
       "    <tr>\n",
       "      <th>1991-02-28</th>\n",
       "      <td>12154321</td>\n",
       "      <td>15304585</td>\n",
       "    </tr>\n",
       "    <tr>\n",
       "      <th>1991-03-31</th>\n",
       "      <td>14337072</td>\n",
       "      <td>15413591</td>\n",
       "    </tr>\n",
       "    <tr>\n",
       "      <th>1991-04-30</th>\n",
       "      <td>15108570</td>\n",
       "      <td>15293409</td>\n",
       "    </tr>\n",
       "    <tr>\n",
       "      <th>1991-05-31</th>\n",
       "      <td>17225734</td>\n",
       "      <td>15676083</td>\n",
       "    </tr>\n",
       "  </tbody>\n",
       "</table>\n",
       "</div>"
      ],
      "text/plain": [
       "             Unadjusted  Seasonally adjusted\n",
       "Adjustments                                 \n",
       "1991-01-31     12588862             15026890\n",
       "1991-02-28     12154321             15304585\n",
       "1991-03-31     14337072             15413591\n",
       "1991-04-30     15108570             15293409\n",
       "1991-05-31     17225734             15676083"
      ]
     },
     "execution_count": 4,
     "metadata": {},
     "output_type": "execute_result"
    }
   ],
   "source": [
    "df['Adjustments'] = pd.to_datetime(df['Adjustments']) + MonthEnd(1)\n",
    "df = df.set_index('Adjustments')\n",
    "df.head()"
   ]
  },
  {
   "cell_type": "code",
   "execution_count": 5,
   "metadata": {},
   "outputs": [
    {
     "data": {
      "text/plain": [
       "<matplotlib.axes._subplots.AxesSubplot at 0x111c43e10>"
      ]
     },
     "execution_count": 5,
     "metadata": {},
     "output_type": "execute_result"
    },
    {
     "data": {
      "image/png": "[encoded data removed]",
      "text/plain": [
       "<Figure size 432x288 with 1 Axes>"
      ]
     },
     "metadata": {},
     "output_type": "display_data"
    }
   ],
   "source": [
    "df.plot()"
   ]
  },
  {
   "cell_type": "code",
   "execution_count": 6,
   "metadata": {},
   "outputs": [],
   "source": [
    "split_date = pd.Timestamp('01-01-2011')"
   ]
  },
  {
   "cell_type": "code",
   "execution_count": 7,
   "metadata": {},
   "outputs": [],
   "source": [
    "train = df.loc[:split_date, ['Unadjusted']]\n",
    "test = df.loc[split_date:, ['Unadjusted']]"
   ]
  },
  {
   "cell_type": "code",
   "execution_count": 8,
   "metadata": {},
   "outputs": [
    {
     "data": {
      "text/plain": [
       "<matplotlib.legend.Legend at 0x111f29630>"
      ]
     },
     "execution_count": 8,
     "metadata": {},
     "output_type": "execute_result"
    },
    {
     "data": {
      "image/png": "[encoded data removed]",
      "text/plain": [
       "<Figure size 432x288 with 1 Axes>"
      ]
     },
     "metadata": {},
     "output_type": "display_data"
    }
   ],
   "source": [
    "ax = train.plot()\n",
    "test.plot(ax=ax)\n",
    "plt.legend(['train', 'test'])"
   ]
  },
  {
   "cell_type": "code",
   "execution_count": 9,
   "metadata": {},
   "outputs": [],
   "source": [
    "from sklearn.preprocessing import MinMaxScaler\n",
    "\n",
    "sc = MinMaxScaler()\n",
    "\n",
    "train_sc = sc.fit_transform(train)\n",
    "test_sc = sc.transform(test)"
   ]
  },
  {
   "cell_type": "code",
   "execution_count": 10,
   "metadata": {},
   "outputs": [
    {
     "data": {
      "text/plain": [
       "array([[0.01402033],\n",
       "       [0.        ],\n",
       "       [0.0704258 ],\n",
       "       [0.09531795]])"
      ]
     },
     "execution_count": 10,
     "metadata": {},
     "output_type": "execute_result"
    }
   ],
   "source": [
    "train_sc[:4]"
   ]
  },
  {
   "cell_type": "code",
   "execution_count": 11,
   "metadata": {},
   "outputs": [],
   "source": [
    "X_train = train_sc[:-1]\n",
    "y_train = train_sc[1:]\n",
    "\n",
    "X_test = test_sc[:-1]\n",
    "y_test = test_sc[1:]"
   ]
  },
  {
   "cell_type": "markdown",
   "metadata": {},
   "source": [
    "### Fully connected predictor"
   ]
  },
  {
   "cell_type": "code",
   "execution_count": 12,
   "metadata": {},
   "outputs": [
    {
     "name": "stderr",
     "output_type": "stream",
     "text": [
      "Using TensorFlow backend.\n"
     ]
    }
   ],
   "source": [
    "from keras.models import Sequential\n",
    "from keras.layers import Dense\n",
    "import keras.backend as K\n",
    "from keras.callbacks import EarlyStopping"
   ]
  },
  {
   "cell_type": "code",
   "execution_count": 13,
   "metadata": {},
   "outputs": [
    {
     "name": "stdout",
     "output_type": "stream",
     "text": [
      "_________________________________________________________________\n",
      "Layer (type)                 Output Shape              Param #   \n",
      "=================================================================\n",
      "dense_1 (Dense)              (None, 12)                24        \n",
      "_________________________________________________________________\n",
      "dense_2 (Dense)              (None, 1)                 13        \n",
      "=================================================================\n",
      "Total params: 37\n",
      "Trainable params: 37\n",
      "Non-trainable params: 0\n",
      "_________________________________________________________________\n"
     ]
    }
   ],
   "source": [
    "K.clear_session()\n",
    "\n",
    "model = Sequential()\n",
    "model.add(Dense(12, input_dim=1, activation='relu'))\n",
    "model.add(Dense(1))\n",
    "model.compile(loss='mean_squared_error', optimizer='adam')\n",
    "model.summary()"
   ]
  },
  {
   "cell_type": "code",
   "execution_count": 14,
   "metadata": {},
   "outputs": [],
   "source": [
    "early_stop = EarlyStopping(monitor='loss', patience=1, verbose=1)"
   ]
  },
  {
   "cell_type": "code",
   "execution_count": 15,
   "metadata": {},
   "outputs": [
    {
     "name": "stdout",
     "output_type": "stream",
     "text": [
      "Epoch 1/200\n",
      "239/239 [==============================] - 0s 1ms/step - loss: 0.1121\n",
      "Epoch 2/200\n",
      "239/239 [==============================] - 0s 383us/step - loss: 0.0268\n",
      "Epoch 3/200\n",
      "239/239 [==============================] - 0s 374us/step - loss: 0.0208\n",
      "Epoch 4/200\n",
      "239/239 [==============================] - 0s 376us/step - loss: 0.0168\n",
      "Epoch 5/200\n",
      "239/239 [==============================] - 0s 405us/step - loss: 0.0139\n",
      "Epoch 6/200\n",
      "239/239 [==============================] - 0s 357us/step - loss: 0.0122\n",
      "Epoch 7/200\n",
      "239/239 [==============================] - 0s 392us/step - loss: 0.0110\n",
      "Epoch 8/200\n",
      "239/239 [==============================] - 0s 382us/step - loss: 0.0106\n",
      "Epoch 9/200\n",
      "239/239 [==============================] - 0s 362us/step - loss: 0.0101\n",
      "Epoch 10/200\n",
      "239/239 [==============================] - 0s 348us/step - loss: 0.0100\n",
      "Epoch 11/200\n",
      "239/239 [==============================] - 0s 386us/step - loss: 0.0101\n",
      "Epoch 00011: early stopping\n"
     ]
    },
    {
     "data": {
      "text/plain": [
       "<keras.callbacks.History at 0x1223b44e0>"
      ]
     },
     "execution_count": 15,
     "metadata": {},
     "output_type": "execute_result"
    }
   ],
   "source": [
    "model.fit(X_train, y_train, epochs=200,\n",
    "          batch_size=2, verbose=1,\n",
    "          callbacks=[early_stop])"
   ]
  },
  {
   "cell_type": "code",
   "execution_count": 16,
   "metadata": {},
   "outputs": [],
   "source": [
    "y_pred = model.predict(X_test)"
   ]
  },
  {
   "cell_type": "code",
   "execution_count": 17,
   "metadata": {},
   "outputs": [
    {
     "data": {
      "text/plain": [
       "[<matplotlib.lines.Line2D at 0x1229792e8>]"
      ]
     },
     "execution_count": 17,
     "metadata": {},
     "output_type": "execute_result"
    },
    {
     "data": {
      "image/png": "[encoded data removed]",
      "text/plain": [
       "<Figure size 432x288 with 1 Axes>"
      ]
     },
     "metadata": {},
     "output_type": "display_data"
    }
   ],
   "source": [
    "plt.plot(y_test)\n",
    "plt.plot(y_pred)"
   ]
  },
  {
   "cell_type": "markdown",
   "metadata": {},
   "source": [
    "### Recurrent predictor"
   ]
  },
  {
   "cell_type": "code",
   "execution_count": 18,
   "metadata": {},
   "outputs": [],
   "source": [
    "from keras.layers import LSTM"
   ]
  },
  {
   "cell_type": "code",
   "execution_count": 19,
   "metadata": {},
   "outputs": [
    {
     "data": {
      "text/plain": [
       "(239, 1)"
      ]
     },
     "execution_count": 19,
     "metadata": {},
     "output_type": "execute_result"
    }
   ],
   "source": [
    "X_train.shape"
   ]
  },
  {
   "cell_type": "code",
   "execution_count": 20,
   "metadata": {},
   "outputs": [
    {
     "data": {
      "text/plain": [
       "(239, 1, 1)"
      ]
     },
     "execution_count": 20,
     "metadata": {},
     "output_type": "execute_result"
    }
   ],
   "source": [
    "#3D tensor with shape (batch_size, timesteps, input_dim)\n",
    "X_train[:, None].shape"
   ]
  },
  {
   "cell_type": "code",
   "execution_count": 21,
   "metadata": {},
   "outputs": [],
   "source": [
    "X_train_t = X_train[:, None]\n",
    "X_test_t = X_test[:, None]"
   ]
  },
  {
   "cell_type": "code",
   "execution_count": 22,
   "metadata": {},
   "outputs": [],
   "source": [
    "K.clear_session()\n",
    "model = Sequential()\n",
    "\n",
    "model.add(LSTM(6, input_shape=(1, 1)))\n",
    "\n",
    "model.add(Dense(1))\n",
    "\n",
    "model.compile(loss='mean_squared_error', optimizer='adam')"
   ]
  },
  {
   "cell_type": "code",
   "execution_count": 23,
   "metadata": {},
   "outputs": [
    {
     "name": "stdout",
     "output_type": "stream",
     "text": [
      "Epoch 1/100\n",
      "239/239 [==============================] - 1s 4ms/step - loss: 0.1257\n",
      "Epoch 2/100\n",
      "239/239 [==============================] - 0s 2ms/step - loss: 0.0415\n",
      "Epoch 3/100\n",
      "239/239 [==============================] - 0s 2ms/step - loss: 0.0329\n",
      "Epoch 4/100\n",
      "239/239 [==============================] - 0s 2ms/step - loss: 0.0268\n",
      "Epoch 5/100\n",
      "239/239 [==============================] - 0s 2ms/step - loss: 0.0214\n",
      "Epoch 6/100\n",
      "239/239 [==============================] - 0s 2ms/step - loss: 0.0172\n",
      "Epoch 7/100\n",
      "239/239 [==============================] - 0s 2ms/step - loss: 0.0141\n",
      "Epoch 8/100\n",
      "239/239 [==============================] - 0s 2ms/step - loss: 0.0122\n",
      "Epoch 9/100\n",
      "239/239 [==============================] - 0s 2ms/step - loss: 0.0111\n",
      "Epoch 10/100\n",
      "239/239 [==============================] - 0s 2ms/step - loss: 0.0107\n",
      "Epoch 11/100\n",
      "239/239 [==============================] - 0s 2ms/step - loss: 0.0103\n",
      "Epoch 12/100\n",
      "239/239 [==============================] - 0s 2ms/step - loss: 0.0102\n",
      "Epoch 13/100\n",
      "239/239 [==============================] - 0s 2ms/step - loss: 0.0103\n",
      "Epoch 00013: early stopping\n"
     ]
    },
    {
     "data": {
      "text/plain": [
       "<keras.callbacks.History at 0x12291b2b0>"
      ]
     },
     "execution_count": 23,
     "metadata": {},
     "output_type": "execute_result"
    }
   ],
   "source": [
    "model.fit(X_train_t, y_train,\n",
    "          epochs=100, batch_size=1, verbose=1,\n",
    "          callbacks=[early_stop])"
   ]
  },
  {
   "cell_type": "code",
   "execution_count": 24,
   "metadata": {},
   "outputs": [
    {
     "data": {
      "text/plain": [
       "[<matplotlib.lines.Line2D at 0x123b592b0>]"
      ]
     },
     "execution_count": 24,
     "metadata": {},
     "output_type": "execute_result"
    },
    {
     "data": {
      "image/png": "[encoded data removed]",
      "text/plain": [
       "<Figure size 432x288 with 1 Axes>"
      ]
     },
     "metadata": {},
     "output_type": "display_data"
    }
   ],
   "source": [
    "y_pred = model.predict(X_test_t)\n",
    "plt.plot(y_test)\n",
    "plt.plot(y_pred)"
   ]
  },
  {
   "cell_type": "markdown",
   "metadata": {},
   "source": [
    "## Windows"
   ]
  },
  {
   "cell_type": "code",
   "execution_count": 25,
   "metadata": {},
   "outputs": [
    {
     "data": {
      "text/plain": [
       "(240, 1)"
      ]
     },
     "execution_count": 25,
     "metadata": {},
     "output_type": "execute_result"
    }
   ],
   "source": [
    "train_sc.shape"
   ]
  },
  {
   "cell_type": "code",
   "execution_count": 26,
   "metadata": {},
   "outputs": [
    {
     "data": {
      "text/html": [
       "<div>\n",
       "<style scoped>\n",
       "    .dataframe tbody tr th:only-of-type {\n",
       "        vertical-align: middle;\n",
       "    }\n",
       "\n",
       "    .dataframe tbody tr th {\n",
       "        vertical-align: top;\n",
       "    }\n",
       "\n",
       "    .dataframe thead th {\n",
       "        text-align: right;\n",
       "    }\n",
       "</style>\n",
       "<table border=\"1\" class=\"dataframe\">\n",
       "  <thead>\n",
       "    <tr style=\"text-align: right;\">\n",
       "      <th></th>\n",
       "      <th>Scaled</th>\n",
       "    </tr>\n",
       "    <tr>\n",
       "      <th>Adjustments</th>\n",
       "      <th></th>\n",
       "    </tr>\n",
       "  </thead>\n",
       "  <tbody>\n",
       "    <tr>\n",
       "      <th>1991-01-31</th>\n",
       "      <td>0.014020</td>\n",
       "    </tr>\n",
       "    <tr>\n",
       "      <th>1991-02-28</th>\n",
       "      <td>0.000000</td>\n",
       "    </tr>\n",
       "    <tr>\n",
       "      <th>1991-03-31</th>\n",
       "      <td>0.070426</td>\n",
       "    </tr>\n",
       "    <tr>\n",
       "      <th>1991-04-30</th>\n",
       "      <td>0.095318</td>\n",
       "    </tr>\n",
       "    <tr>\n",
       "      <th>1991-05-31</th>\n",
       "      <td>0.163628</td>\n",
       "    </tr>\n",
       "  </tbody>\n",
       "</table>\n",
       "</div>"
      ],
      "text/plain": [
       "               Scaled\n",
       "Adjustments          \n",
       "1991-01-31   0.014020\n",
       "1991-02-28   0.000000\n",
       "1991-03-31   0.070426\n",
       "1991-04-30   0.095318\n",
       "1991-05-31   0.163628"
      ]
     },
     "execution_count": 26,
     "metadata": {},
     "output_type": "execute_result"
    }
   ],
   "source": [
    "train_sc_df = pd.DataFrame(train_sc, columns=['Scaled'], index=train.index)\n",
    "test_sc_df = pd.DataFrame(test_sc, columns=['Scaled'], index=test.index)\n",
    "train_sc_df.head()"
   ]
  },
  {
   "cell_type": "code",
   "execution_count": 27,
   "metadata": {},
   "outputs": [],
   "source": [
    "for s in range(1, 13):\n",
    "    train_sc_df['shift_{}'.format(s)] = train_sc_df['Scaled'].shift(s)\n",
    "    test_sc_df['shift_{}'.format(s)] = test_sc_df['Scaled'].shift(s)"
   ]
  },
  {
   "cell_type": "code",
   "execution_count": 28,
   "metadata": {},
   "outputs": [
    {
     "data": {
      "text/html": [
       "<div>\n",
       "<style scoped>\n",
       "    .dataframe tbody tr th:only-of-type {\n",
       "        vertical-align: middle;\n",
       "    }\n",
       "\n",
       "    .dataframe tbody tr th {\n",
       "        vertical-align: top;\n",
       "    }\n",
       "\n",
       "    .dataframe thead th {\n",
       "        text-align: right;\n",
       "    }\n",
       "</style>\n",
       "<table border=\"1\" class=\"dataframe\">\n",
       "  <thead>\n",
       "    <tr style=\"text-align: right;\">\n",
       "      <th></th>\n",
       "      <th>Scaled</th>\n",
       "      <th>shift_1</th>\n",
       "      <th>shift_2</th>\n",
       "      <th>shift_3</th>\n",
       "      <th>shift_4</th>\n",
       "      <th>shift_5</th>\n",
       "      <th>shift_6</th>\n",
       "      <th>shift_7</th>\n",
       "      <th>shift_8</th>\n",
       "      <th>shift_9</th>\n",
       "      <th>shift_10</th>\n",
       "      <th>shift_11</th>\n",
       "      <th>shift_12</th>\n",
       "    </tr>\n",
       "    <tr>\n",
       "      <th>Adjustments</th>\n",
       "      <th></th>\n",
       "      <th></th>\n",
       "      <th></th>\n",
       "      <th></th>\n",
       "      <th></th>\n",
       "      <th></th>\n",
       "      <th></th>\n",
       "      <th></th>\n",
       "      <th></th>\n",
       "      <th></th>\n",
       "      <th></th>\n",
       "      <th></th>\n",
       "      <th></th>\n",
       "    </tr>\n",
       "  </thead>\n",
       "  <tbody>\n",
       "    <tr>\n",
       "      <th>1991-01-31</th>\n",
       "      <td>0.014020</td>\n",
       "      <td>NaN</td>\n",
       "      <td>NaN</td>\n",
       "      <td>NaN</td>\n",
       "      <td>NaN</td>\n",
       "      <td>NaN</td>\n",
       "      <td>NaN</td>\n",
       "      <td>NaN</td>\n",
       "      <td>NaN</td>\n",
       "      <td>NaN</td>\n",
       "      <td>NaN</td>\n",
       "      <td>NaN</td>\n",
       "      <td>NaN</td>\n",
       "    </tr>\n",
       "    <tr>\n",
       "      <th>1991-02-28</th>\n",
       "      <td>0.000000</td>\n",
       "      <td>0.014020</td>\n",
       "      <td>NaN</td>\n",
       "      <td>NaN</td>\n",
       "      <td>NaN</td>\n",
       "      <td>NaN</td>\n",
       "      <td>NaN</td>\n",
       "      <td>NaN</td>\n",
       "      <td>NaN</td>\n",
       "      <td>NaN</td>\n",
       "      <td>NaN</td>\n",
       "      <td>NaN</td>\n",
       "      <td>NaN</td>\n",
       "    </tr>\n",
       "    <tr>\n",
       "      <th>1991-03-31</th>\n",
       "      <td>0.070426</td>\n",
       "      <td>0.000000</td>\n",
       "      <td>0.014020</td>\n",
       "      <td>NaN</td>\n",
       "      <td>NaN</td>\n",
       "      <td>NaN</td>\n",
       "      <td>NaN</td>\n",
       "      <td>NaN</td>\n",
       "      <td>NaN</td>\n",
       "      <td>NaN</td>\n",
       "      <td>NaN</td>\n",
       "      <td>NaN</td>\n",
       "      <td>NaN</td>\n",
       "    </tr>\n",
       "    <tr>\n",
       "      <th>1991-04-30</th>\n",
       "      <td>0.095318</td>\n",
       "      <td>0.070426</td>\n",
       "      <td>0.000000</td>\n",
       "      <td>0.014020</td>\n",
       "      <td>NaN</td>\n",
       "      <td>NaN</td>\n",
       "      <td>NaN</td>\n",
       "      <td>NaN</td>\n",
       "      <td>NaN</td>\n",
       "      <td>NaN</td>\n",
       "      <td>NaN</td>\n",
       "      <td>NaN</td>\n",
       "      <td>NaN</td>\n",
       "    </tr>\n",
       "    <tr>\n",
       "      <th>1991-05-31</th>\n",
       "      <td>0.163628</td>\n",
       "      <td>0.095318</td>\n",
       "      <td>0.070426</td>\n",
       "      <td>0.000000</td>\n",
       "      <td>0.014020</td>\n",
       "      <td>NaN</td>\n",
       "      <td>NaN</td>\n",
       "      <td>NaN</td>\n",
       "      <td>NaN</td>\n",
       "      <td>NaN</td>\n",
       "      <td>NaN</td>\n",
       "      <td>NaN</td>\n",
       "      <td>NaN</td>\n",
       "    </tr>\n",
       "    <tr>\n",
       "      <th>1991-06-30</th>\n",
       "      <td>0.135141</td>\n",
       "      <td>0.163628</td>\n",
       "      <td>0.095318</td>\n",
       "      <td>0.070426</td>\n",
       "      <td>0.000000</td>\n",
       "      <td>0.014020</td>\n",
       "      <td>NaN</td>\n",
       "      <td>NaN</td>\n",
       "      <td>NaN</td>\n",
       "      <td>NaN</td>\n",
       "      <td>NaN</td>\n",
       "      <td>NaN</td>\n",
       "      <td>NaN</td>\n",
       "    </tr>\n",
       "    <tr>\n",
       "      <th>1991-07-31</th>\n",
       "      <td>0.123958</td>\n",
       "      <td>0.135141</td>\n",
       "      <td>0.163628</td>\n",
       "      <td>0.095318</td>\n",
       "      <td>0.070426</td>\n",
       "      <td>0.000000</td>\n",
       "      <td>0.014020</td>\n",
       "      <td>NaN</td>\n",
       "      <td>NaN</td>\n",
       "      <td>NaN</td>\n",
       "      <td>NaN</td>\n",
       "      <td>NaN</td>\n",
       "      <td>NaN</td>\n",
       "    </tr>\n",
       "    <tr>\n",
       "      <th>1991-08-31</th>\n",
       "      <td>0.126174</td>\n",
       "      <td>0.123958</td>\n",
       "      <td>0.135141</td>\n",
       "      <td>0.163628</td>\n",
       "      <td>0.095318</td>\n",
       "      <td>0.070426</td>\n",
       "      <td>0.000000</td>\n",
       "      <td>0.014020</td>\n",
       "      <td>NaN</td>\n",
       "      <td>NaN</td>\n",
       "      <td>NaN</td>\n",
       "      <td>NaN</td>\n",
       "      <td>NaN</td>\n",
       "    </tr>\n",
       "    <tr>\n",
       "      <th>1991-09-30</th>\n",
       "      <td>0.092309</td>\n",
       "      <td>0.126174</td>\n",
       "      <td>0.123958</td>\n",
       "      <td>0.135141</td>\n",
       "      <td>0.163628</td>\n",
       "      <td>0.095318</td>\n",
       "      <td>0.070426</td>\n",
       "      <td>0.000000</td>\n",
       "      <td>0.014020</td>\n",
       "      <td>NaN</td>\n",
       "      <td>NaN</td>\n",
       "      <td>NaN</td>\n",
       "      <td>NaN</td>\n",
       "    </tr>\n",
       "    <tr>\n",
       "      <th>1991-10-31</th>\n",
       "      <td>0.111395</td>\n",
       "      <td>0.092309</td>\n",
       "      <td>0.126174</td>\n",
       "      <td>0.123958</td>\n",
       "      <td>0.135141</td>\n",
       "      <td>0.163628</td>\n",
       "      <td>0.095318</td>\n",
       "      <td>0.070426</td>\n",
       "      <td>0.000000</td>\n",
       "      <td>0.014020</td>\n",
       "      <td>NaN</td>\n",
       "      <td>NaN</td>\n",
       "      <td>NaN</td>\n",
       "    </tr>\n",
       "    <tr>\n",
       "      <th>1991-11-30</th>\n",
       "      <td>0.131738</td>\n",
       "      <td>0.111395</td>\n",
       "      <td>0.092309</td>\n",
       "      <td>0.126174</td>\n",
       "      <td>0.123958</td>\n",
       "      <td>0.135141</td>\n",
       "      <td>0.163628</td>\n",
       "      <td>0.095318</td>\n",
       "      <td>0.070426</td>\n",
       "      <td>0.000000</td>\n",
       "      <td>0.014020</td>\n",
       "      <td>NaN</td>\n",
       "      <td>NaN</td>\n",
       "    </tr>\n",
       "    <tr>\n",
       "      <th>1991-12-31</th>\n",
       "      <td>0.200913</td>\n",
       "      <td>0.131738</td>\n",
       "      <td>0.111395</td>\n",
       "      <td>0.092309</td>\n",
       "      <td>0.126174</td>\n",
       "      <td>0.123958</td>\n",
       "      <td>0.135141</td>\n",
       "      <td>0.163628</td>\n",
       "      <td>0.095318</td>\n",
       "      <td>0.070426</td>\n",
       "      <td>0.000000</td>\n",
       "      <td>0.014020</td>\n",
       "      <td>NaN</td>\n",
       "    </tr>\n",
       "    <tr>\n",
       "      <th>1992-01-31</th>\n",
       "      <td>0.030027</td>\n",
       "      <td>0.200913</td>\n",
       "      <td>0.131738</td>\n",
       "      <td>0.111395</td>\n",
       "      <td>0.092309</td>\n",
       "      <td>0.126174</td>\n",
       "      <td>0.123958</td>\n",
       "      <td>0.135141</td>\n",
       "      <td>0.163628</td>\n",
       "      <td>0.095318</td>\n",
       "      <td>0.070426</td>\n",
       "      <td>0.000000</td>\n",
       "      <td>0.014020</td>\n",
       "    </tr>\n",
       "    <tr>\n",
       "      <th>1992-02-29</th>\n",
       "      <td>0.019993</td>\n",
       "      <td>0.030027</td>\n",
       "      <td>0.200913</td>\n",
       "      <td>0.131738</td>\n",
       "      <td>0.111395</td>\n",
       "      <td>0.092309</td>\n",
       "      <td>0.126174</td>\n",
       "      <td>0.123958</td>\n",
       "      <td>0.135141</td>\n",
       "      <td>0.163628</td>\n",
       "      <td>0.095318</td>\n",
       "      <td>0.070426</td>\n",
       "      <td>0.000000</td>\n",
       "    </tr>\n",
       "    <tr>\n",
       "      <th>1992-03-31</th>\n",
       "      <td>0.065964</td>\n",
       "      <td>0.019993</td>\n",
       "      <td>0.030027</td>\n",
       "      <td>0.200913</td>\n",
       "      <td>0.131738</td>\n",
       "      <td>0.111395</td>\n",
       "      <td>0.092309</td>\n",
       "      <td>0.126174</td>\n",
       "      <td>0.123958</td>\n",
       "      <td>0.135141</td>\n",
       "      <td>0.163628</td>\n",
       "      <td>0.095318</td>\n",
       "      <td>0.070426</td>\n",
       "    </tr>\n",
       "    <tr>\n",
       "      <th>1992-04-30</th>\n",
       "      <td>0.109831</td>\n",
       "      <td>0.065964</td>\n",
       "      <td>0.019993</td>\n",
       "      <td>0.030027</td>\n",
       "      <td>0.200913</td>\n",
       "      <td>0.131738</td>\n",
       "      <td>0.111395</td>\n",
       "      <td>0.092309</td>\n",
       "      <td>0.126174</td>\n",
       "      <td>0.123958</td>\n",
       "      <td>0.135141</td>\n",
       "      <td>0.163628</td>\n",
       "      <td>0.095318</td>\n",
       "    </tr>\n",
       "    <tr>\n",
       "      <th>1992-05-31</th>\n",
       "      <td>0.149130</td>\n",
       "      <td>0.109831</td>\n",
       "      <td>0.065964</td>\n",
       "      <td>0.019993</td>\n",
       "      <td>0.030027</td>\n",
       "      <td>0.200913</td>\n",
       "      <td>0.131738</td>\n",
       "      <td>0.111395</td>\n",
       "      <td>0.092309</td>\n",
       "      <td>0.126174</td>\n",
       "      <td>0.123958</td>\n",
       "      <td>0.135141</td>\n",
       "      <td>0.163628</td>\n",
       "    </tr>\n",
       "    <tr>\n",
       "      <th>1992-06-30</th>\n",
       "      <td>0.147189</td>\n",
       "      <td>0.149130</td>\n",
       "      <td>0.109831</td>\n",
       "      <td>0.065964</td>\n",
       "      <td>0.019993</td>\n",
       "      <td>0.030027</td>\n",
       "      <td>0.200913</td>\n",
       "      <td>0.131738</td>\n",
       "      <td>0.111395</td>\n",
       "      <td>0.092309</td>\n",
       "      <td>0.126174</td>\n",
       "      <td>0.123958</td>\n",
       "      <td>0.135141</td>\n",
       "    </tr>\n",
       "    <tr>\n",
       "      <th>1992-07-31</th>\n",
       "      <td>0.144648</td>\n",
       "      <td>0.147189</td>\n",
       "      <td>0.149130</td>\n",
       "      <td>0.109831</td>\n",
       "      <td>0.065964</td>\n",
       "      <td>0.019993</td>\n",
       "      <td>0.030027</td>\n",
       "      <td>0.200913</td>\n",
       "      <td>0.131738</td>\n",
       "      <td>0.111395</td>\n",
       "      <td>0.092309</td>\n",
       "      <td>0.126174</td>\n",
       "      <td>0.123958</td>\n",
       "    </tr>\n",
       "    <tr>\n",
       "      <th>1992-08-31</th>\n",
       "      <td>0.118984</td>\n",
       "      <td>0.144648</td>\n",
       "      <td>0.147189</td>\n",
       "      <td>0.149130</td>\n",
       "      <td>0.109831</td>\n",
       "      <td>0.065964</td>\n",
       "      <td>0.019993</td>\n",
       "      <td>0.030027</td>\n",
       "      <td>0.200913</td>\n",
       "      <td>0.131738</td>\n",
       "      <td>0.111395</td>\n",
       "      <td>0.092309</td>\n",
       "      <td>0.126174</td>\n",
       "    </tr>\n",
       "    <tr>\n",
       "      <th>1992-09-30</th>\n",
       "      <td>0.118027</td>\n",
       "      <td>0.118984</td>\n",
       "      <td>0.144648</td>\n",
       "      <td>0.147189</td>\n",
       "      <td>0.149130</td>\n",
       "      <td>0.109831</td>\n",
       "      <td>0.065964</td>\n",
       "      <td>0.019993</td>\n",
       "      <td>0.030027</td>\n",
       "      <td>0.200913</td>\n",
       "      <td>0.131738</td>\n",
       "      <td>0.111395</td>\n",
       "      <td>0.092309</td>\n",
       "    </tr>\n",
       "    <tr>\n",
       "      <th>1992-10-31</th>\n",
       "      <td>0.142221</td>\n",
       "      <td>0.118027</td>\n",
       "      <td>0.118984</td>\n",
       "      <td>0.144648</td>\n",
       "      <td>0.147189</td>\n",
       "      <td>0.149130</td>\n",
       "      <td>0.109831</td>\n",
       "      <td>0.065964</td>\n",
       "      <td>0.019993</td>\n",
       "      <td>0.030027</td>\n",
       "      <td>0.200913</td>\n",
       "      <td>0.131738</td>\n",
       "      <td>0.111395</td>\n",
       "    </tr>\n",
       "    <tr>\n",
       "      <th>1992-11-30</th>\n",
       "      <td>0.124592</td>\n",
       "      <td>0.142221</td>\n",
       "      <td>0.118027</td>\n",
       "      <td>0.118984</td>\n",
       "      <td>0.144648</td>\n",
       "      <td>0.147189</td>\n",
       "      <td>0.149130</td>\n",
       "      <td>0.109831</td>\n",
       "      <td>0.065964</td>\n",
       "      <td>0.019993</td>\n",
       "      <td>0.030027</td>\n",
       "      <td>0.200913</td>\n",
       "      <td>0.131738</td>\n",
       "    </tr>\n",
       "    <tr>\n",
       "      <th>1992-12-31</th>\n",
       "      <td>0.242908</td>\n",
       "      <td>0.124592</td>\n",
       "      <td>0.142221</td>\n",
       "      <td>0.118027</td>\n",
       "      <td>0.118984</td>\n",
       "      <td>0.144648</td>\n",
       "      <td>0.147189</td>\n",
       "      <td>0.149130</td>\n",
       "      <td>0.109831</td>\n",
       "      <td>0.065964</td>\n",
       "      <td>0.019993</td>\n",
       "      <td>0.030027</td>\n",
       "      <td>0.200913</td>\n",
       "    </tr>\n",
       "    <tr>\n",
       "      <th>1993-01-31</th>\n",
       "      <td>0.048991</td>\n",
       "      <td>0.242908</td>\n",
       "      <td>0.124592</td>\n",
       "      <td>0.142221</td>\n",
       "      <td>0.118027</td>\n",
       "      <td>0.118984</td>\n",
       "      <td>0.144648</td>\n",
       "      <td>0.147189</td>\n",
       "      <td>0.149130</td>\n",
       "      <td>0.109831</td>\n",
       "      <td>0.065964</td>\n",
       "      <td>0.019993</td>\n",
       "      <td>0.030027</td>\n",
       "    </tr>\n",
       "  </tbody>\n",
       "</table>\n",
       "</div>"
      ],
      "text/plain": [
       "               Scaled   shift_1   shift_2   shift_3   shift_4   shift_5  \\\n",
       "Adjustments                                                               \n",
       "1991-01-31   0.014020       NaN       NaN       NaN       NaN       NaN   \n",
       "1991-02-28   0.000000  0.014020       NaN       NaN       NaN       NaN   \n",
       "1991-03-31   0.070426  0.000000  0.014020       NaN       NaN       NaN   \n",
       "1991-04-30   0.095318  0.070426  0.000000  0.014020       NaN       NaN   \n",
       "1991-05-31   0.163628  0.095318  0.070426  0.000000  0.014020       NaN   \n",
       "1991-06-30   0.135141  0.163628  0.095318  0.070426  0.000000  0.014020   \n",
       "1991-07-31   0.123958  0.135141  0.163628  0.095318  0.070426  0.000000   \n",
       "1991-08-31   0.126174  0.123958  0.135141  0.163628  0.095318  0.070426   \n",
       "1991-09-30   0.092309  0.126174  0.123958  0.135141  0.163628  0.095318   \n",
       "1991-10-31   0.111395  0.092309  0.126174  0.123958  0.135141  0.163628   \n",
       "1991-11-30   0.131738  0.111395  0.092309  0.126174  0.123958  0.135141   \n",
       "1991-12-31   0.200913  0.131738  0.111395  0.092309  0.126174  0.123958   \n",
       "1992-01-31   0.030027  0.200913  0.131738  0.111395  0.092309  0.126174   \n",
       "1992-02-29   0.019993  0.030027  0.200913  0.131738  0.111395  0.092309   \n",
       "1992-03-31   0.065964  0.019993  0.030027  0.200913  0.131738  0.111395   \n",
       "1992-04-30   0.109831  0.065964  0.019993  0.030027  0.200913  0.131738   \n",
       "1992-05-31   0.149130  0.109831  0.065964  0.019993  0.030027  0.200913   \n",
       "1992-06-30   0.147189  0.149130  0.109831  0.065964  0.019993  0.030027   \n",
       "1992-07-31   0.144648  0.147189  0.149130  0.109831  0.065964  0.019993   \n",
       "1992-08-31   0.118984  0.144648  0.147189  0.149130  0.109831  0.065964   \n",
       "1992-09-30   0.118027  0.118984  0.144648  0.147189  0.149130  0.109831   \n",
       "1992-10-31   0.142221  0.118027  0.118984  0.144648  0.147189  0.149130   \n",
       "1992-11-30   0.124592  0.142221  0.118027  0.118984  0.144648  0.147189   \n",
       "1992-12-31   0.242908  0.124592  0.142221  0.118027  0.118984  0.144648   \n",
       "1993-01-31   0.048991  0.242908  0.124592  0.142221  0.118027  0.118984   \n",
       "\n",
       "              shift_6   shift_7   shift_8   shift_9  shift_10  shift_11  \\\n",
       "Adjustments                                                               \n",
       "1991-01-31        NaN       NaN       NaN       NaN       NaN       NaN   \n",
       "1991-02-28        NaN       NaN       NaN       NaN       NaN       NaN   \n",
       "1991-03-31        NaN       NaN       NaN       NaN       NaN       NaN   \n",
       "1991-04-30        NaN       NaN       NaN       NaN       NaN       NaN   \n",
       "1991-05-31        NaN       NaN       NaN       NaN       NaN       NaN   \n",
       "1991-06-30        NaN       NaN       NaN       NaN       NaN       NaN   \n",
       "1991-07-31   0.014020       NaN       NaN       NaN       NaN       NaN   \n",
       "1991-08-31   0.000000  0.014020       NaN       NaN       NaN       NaN   \n",
       "1991-09-30   0.070426  0.000000  0.014020       NaN       NaN       NaN   \n",
       "1991-10-31   0.095318  0.070426  0.000000  0.014020       NaN       NaN   \n",
       "1991-11-30   0.163628  0.095318  0.070426  0.000000  0.014020       NaN   \n",
       "1991-12-31   0.135141  0.163628  0.095318  0.070426  0.000000  0.014020   \n",
       "1992-01-31   0.123958  0.135141  0.163628  0.095318  0.070426  0.000000   \n",
       "1992-02-29   0.126174  0.123958  0.135141  0.163628  0.095318  0.070426   \n",
       "1992-03-31   0.092309  0.126174  0.123958  0.135141  0.163628  0.095318   \n",
       "1992-04-30   0.111395  0.092309  0.126174  0.123958  0.135141  0.163628   \n",
       "1992-05-31   0.131738  0.111395  0.092309  0.126174  0.123958  0.135141   \n",
       "1992-06-30   0.200913  0.131738  0.111395  0.092309  0.126174  0.123958   \n",
       "1992-07-31   0.030027  0.200913  0.131738  0.111395  0.092309  0.126174   \n",
       "1992-08-31   0.019993  0.030027  0.200913  0.131738  0.111395  0.092309   \n",
       "1992-09-30   0.065964  0.019993  0.030027  0.200913  0.131738  0.111395   \n",
       "1992-10-31   0.109831  0.065964  0.019993  0.030027  0.200913  0.131738   \n",
       "1992-11-30   0.149130  0.109831  0.065964  0.019993  0.030027  0.200913   \n",
       "1992-12-31   0.147189  0.149130  0.109831  0.065964  0.019993  0.030027   \n",
       "1993-01-31   0.144648  0.147189  0.149130  0.109831  0.065964  0.019993   \n",
       "\n",
       "             shift_12  \n",
       "Adjustments            \n",
       "1991-01-31        NaN  \n",
       "1991-02-28        NaN  \n",
       "1991-03-31        NaN  \n",
       "1991-04-30        NaN  \n",
       "1991-05-31        NaN  \n",
       "1991-06-30        NaN  \n",
       "1991-07-31        NaN  \n",
       "1991-08-31        NaN  \n",
       "1991-09-30        NaN  \n",
       "1991-10-31        NaN  \n",
       "1991-11-30        NaN  \n",
       "1991-12-31        NaN  \n",
       "1992-01-31   0.014020  \n",
       "1992-02-29   0.000000  \n",
       "1992-03-31   0.070426  \n",
       "1992-04-30   0.095318  \n",
       "1992-05-31   0.163628  \n",
       "1992-06-30   0.135141  \n",
       "1992-07-31   0.123958  \n",
       "1992-08-31   0.126174  \n",
       "1992-09-30   0.092309  \n",
       "1992-10-31   0.111395  \n",
       "1992-11-30   0.131738  \n",
       "1992-12-31   0.200913  \n",
       "1993-01-31   0.030027  "
      ]
     },
     "execution_count": 28,
     "metadata": {},
     "output_type": "execute_result"
    }
   ],
   "source": [
    "train_sc_df.head(25)"
   ]
  },
  {
   "cell_type": "code",
   "execution_count": 29,
   "metadata": {},
   "outputs": [],
   "source": [
    "X_train = train_sc_df.dropna().drop('Scaled', axis=1)\n",
    "y_train = train_sc_df.dropna()[['Scaled']]\n",
    "\n",
    "X_test = test_sc_df.dropna().drop('Scaled', axis=1)\n",
    "y_test = test_sc_df.dropna()[['Scaled']]"
   ]
  },
  {
   "cell_type": "code",
   "execution_count": 30,
   "metadata": {},
   "outputs": [
    {
     "data": {
      "text/html": [
       "<div>\n",
       "<style scoped>\n",
       "    .dataframe tbody tr th:only-of-type {\n",
       "        vertical-align: middle;\n",
       "    }\n",
       "\n",
       "    .dataframe tbody tr th {\n",
       "        vertical-align: top;\n",
       "    }\n",
       "\n",
       "    .dataframe thead th {\n",
       "        text-align: right;\n",
       "    }\n",
       "</style>\n",
       "<table border=\"1\" class=\"dataframe\">\n",
       "  <thead>\n",
       "    <tr style=\"text-align: right;\">\n",
       "      <th></th>\n",
       "      <th>shift_1</th>\n",
       "      <th>shift_2</th>\n",
       "      <th>shift_3</th>\n",
       "      <th>shift_4</th>\n",
       "      <th>shift_5</th>\n",
       "      <th>shift_6</th>\n",
       "      <th>shift_7</th>\n",
       "      <th>shift_8</th>\n",
       "      <th>shift_9</th>\n",
       "      <th>shift_10</th>\n",
       "      <th>shift_11</th>\n",
       "      <th>shift_12</th>\n",
       "    </tr>\n",
       "    <tr>\n",
       "      <th>Adjustments</th>\n",
       "      <th></th>\n",
       "      <th></th>\n",
       "      <th></th>\n",
       "      <th></th>\n",
       "      <th></th>\n",
       "      <th></th>\n",
       "      <th></th>\n",
       "      <th></th>\n",
       "      <th></th>\n",
       "      <th></th>\n",
       "      <th></th>\n",
       "      <th></th>\n",
       "    </tr>\n",
       "  </thead>\n",
       "  <tbody>\n",
       "    <tr>\n",
       "      <th>1992-01-31</th>\n",
       "      <td>0.200913</td>\n",
       "      <td>0.131738</td>\n",
       "      <td>0.111395</td>\n",
       "      <td>0.092309</td>\n",
       "      <td>0.126174</td>\n",
       "      <td>0.123958</td>\n",
       "      <td>0.135141</td>\n",
       "      <td>0.163628</td>\n",
       "      <td>0.095318</td>\n",
       "      <td>0.070426</td>\n",
       "      <td>0.000000</td>\n",
       "      <td>0.014020</td>\n",
       "    </tr>\n",
       "    <tr>\n",
       "      <th>1992-02-29</th>\n",
       "      <td>0.030027</td>\n",
       "      <td>0.200913</td>\n",
       "      <td>0.131738</td>\n",
       "      <td>0.111395</td>\n",
       "      <td>0.092309</td>\n",
       "      <td>0.126174</td>\n",
       "      <td>0.123958</td>\n",
       "      <td>0.135141</td>\n",
       "      <td>0.163628</td>\n",
       "      <td>0.095318</td>\n",
       "      <td>0.070426</td>\n",
       "      <td>0.000000</td>\n",
       "    </tr>\n",
       "    <tr>\n",
       "      <th>1992-03-31</th>\n",
       "      <td>0.019993</td>\n",
       "      <td>0.030027</td>\n",
       "      <td>0.200913</td>\n",
       "      <td>0.131738</td>\n",
       "      <td>0.111395</td>\n",
       "      <td>0.092309</td>\n",
       "      <td>0.126174</td>\n",
       "      <td>0.123958</td>\n",
       "      <td>0.135141</td>\n",
       "      <td>0.163628</td>\n",
       "      <td>0.095318</td>\n",
       "      <td>0.070426</td>\n",
       "    </tr>\n",
       "    <tr>\n",
       "      <th>1992-04-30</th>\n",
       "      <td>0.065964</td>\n",
       "      <td>0.019993</td>\n",
       "      <td>0.030027</td>\n",
       "      <td>0.200913</td>\n",
       "      <td>0.131738</td>\n",
       "      <td>0.111395</td>\n",
       "      <td>0.092309</td>\n",
       "      <td>0.126174</td>\n",
       "      <td>0.123958</td>\n",
       "      <td>0.135141</td>\n",
       "      <td>0.163628</td>\n",
       "      <td>0.095318</td>\n",
       "    </tr>\n",
       "    <tr>\n",
       "      <th>1992-05-31</th>\n",
       "      <td>0.109831</td>\n",
       "      <td>0.065964</td>\n",
       "      <td>0.019993</td>\n",
       "      <td>0.030027</td>\n",
       "      <td>0.200913</td>\n",
       "      <td>0.131738</td>\n",
       "      <td>0.111395</td>\n",
       "      <td>0.092309</td>\n",
       "      <td>0.126174</td>\n",
       "      <td>0.123958</td>\n",
       "      <td>0.135141</td>\n",
       "      <td>0.163628</td>\n",
       "    </tr>\n",
       "  </tbody>\n",
       "</table>\n",
       "</div>"
      ],
      "text/plain": [
       "              shift_1   shift_2   shift_3   shift_4   shift_5   shift_6  \\\n",
       "Adjustments                                                               \n",
       "1992-01-31   0.200913  0.131738  0.111395  0.092309  0.126174  0.123958   \n",
       "1992-02-29   0.030027  0.200913  0.131738  0.111395  0.092309  0.126174   \n",
       "1992-03-31   0.019993  0.030027  0.200913  0.131738  0.111395  0.092309   \n",
       "1992-04-30   0.065964  0.019993  0.030027  0.200913  0.131738  0.111395   \n",
       "1992-05-31   0.109831  0.065964  0.019993  0.030027  0.200913  0.131738   \n",
       "\n",
       "              shift_7   shift_8   shift_9  shift_10  shift_11  shift_12  \n",
       "Adjustments                                                              \n",
       "1992-01-31   0.135141  0.163628  0.095318  0.070426  0.000000  0.014020  \n",
       "1992-02-29   0.123958  0.135141  0.163628  0.095318  0.070426  0.000000  \n",
       "1992-03-31   0.126174  0.123958  0.135141  0.163628  0.095318  0.070426  \n",
       "1992-04-30   0.092309  0.126174  0.123958  0.135141  0.163628  0.095318  \n",
       "1992-05-31   0.111395  0.092309  0.126174  0.123958  0.135141  0.163628  "
      ]
     },
     "execution_count": 30,
     "metadata": {},
     "output_type": "execute_result"
    }
   ],
   "source": [
    "X_train.head()"
   ]
  },
  {
   "cell_type": "code",
   "execution_count": 31,
   "metadata": {},
   "outputs": [
    {
     "data": {
      "text/plain": [
       "(228, 12)"
      ]
     },
     "execution_count": 31,
     "metadata": {},
     "output_type": "execute_result"
    }
   ],
   "source": [
    "X_train.shape"
   ]
  },
  {
   "cell_type": "code",
   "execution_count": 32,
   "metadata": {},
   "outputs": [],
   "source": [
    "X_train = X_train.values\n",
    "X_test= X_test.values\n",
    "\n",
    "y_train = y_train.values\n",
    "y_test = y_test.values"
   ]
  },
  {
   "cell_type": "markdown",
   "metadata": {},
   "source": [
    "### Fully Connected on Windows"
   ]
  },
  {
   "cell_type": "code",
   "execution_count": 33,
   "metadata": {},
   "outputs": [
    {
     "name": "stdout",
     "output_type": "stream",
     "text": [
      "_________________________________________________________________\n",
      "Layer (type)                 Output Shape              Param #   \n",
      "=================================================================\n",
      "dense_1 (Dense)              (None, 12)                156       \n",
      "_________________________________________________________________\n",
      "dense_2 (Dense)              (None, 1)                 13        \n",
      "=================================================================\n",
      "Total params: 169\n",
      "Trainable params: 169\n",
      "Non-trainable params: 0\n",
      "_________________________________________________________________\n"
     ]
    }
   ],
   "source": [
    "K.clear_session()\n",
    "\n",
    "model = Sequential()\n",
    "model.add(Dense(12, input_dim=12, activation='relu'))\n",
    "model.add(Dense(1))\n",
    "model.compile(loss='mean_squared_error', optimizer='adam')\n",
    "model.summary()"
   ]
  },
  {
   "cell_type": "code",
   "execution_count": 34,
   "metadata": {},
   "outputs": [
    {
     "name": "stdout",
     "output_type": "stream",
     "text": [
      "Epoch 1/200\n",
      "228/228 [==============================] - 0s 1ms/step - loss: 0.1186\n",
      "Epoch 2/200\n",
      "228/228 [==============================] - 0s 701us/step - loss: 0.0137\n",
      "Epoch 3/200\n",
      "228/228 [==============================] - 0s 676us/step - loss: 0.0116\n",
      "Epoch 4/200\n",
      "228/228 [==============================] - 0s 687us/step - loss: 0.0101\n",
      "Epoch 5/200\n",
      "228/228 [==============================] - 0s 699us/step - loss: 0.0090\n",
      "Epoch 6/200\n",
      "228/228 [==============================] - 0s 692us/step - loss: 0.0083\n",
      "Epoch 7/200\n",
      "228/228 [==============================] - 0s 697us/step - loss: 0.0077\n",
      "Epoch 8/200\n",
      "228/228 [==============================] - 0s 694us/step - loss: 0.0071\n",
      "Epoch 9/200\n",
      "228/228 [==============================] - 0s 647us/step - loss: 0.0064\n",
      "Epoch 10/200\n",
      "228/228 [==============================] - 0s 663us/step - loss: 0.0067\n",
      "Epoch 00010: early stopping\n"
     ]
    },
    {
     "data": {
      "text/plain": [
       "<keras.callbacks.History at 0x1239c9e10>"
      ]
     },
     "execution_count": 34,
     "metadata": {},
     "output_type": "execute_result"
    }
   ],
   "source": [
    "model.fit(X_train, y_train, epochs=200,\n",
    "          batch_size=1, verbose=1, callbacks=[early_stop])"
   ]
  },
  {
   "cell_type": "code",
   "execution_count": 35,
   "metadata": {},
   "outputs": [
    {
     "data": {
      "text/plain": [
       "[<matplotlib.lines.Line2D at 0x12523f4a8>]"
      ]
     },
     "execution_count": 35,
     "metadata": {},
     "output_type": "execute_result"
    },
    {
     "data": {
      "image/png": "[encoded data removed]",
      "text/plain": [
       "<Figure size 432x288 with 1 Axes>"
      ]
     },
     "metadata": {},
     "output_type": "display_data"
    }
   ],
   "source": [
    "y_pred = model.predict(X_test)\n",
    "plt.plot(y_test)\n",
    "plt.plot(y_pred)"
   ]
  },
  {
   "cell_type": "markdown",
   "metadata": {},
   "source": [
    "### LSTM on Windows"
   ]
  },
  {
   "cell_type": "code",
   "execution_count": 36,
   "metadata": {},
   "outputs": [],
   "source": [
    "X_train_t = X_train.reshape(X_train.shape[0], 1, 12)\n",
    "X_test_t = X_test.reshape(X_test.shape[0], 1, 12)"
   ]
  },
  {
   "cell_type": "code",
   "execution_count": 37,
   "metadata": {},
   "outputs": [
    {
     "data": {
      "text/plain": [
       "(228, 1, 12)"
      ]
     },
     "execution_count": 37,
     "metadata": {},
     "output_type": "execute_result"
    }
   ],
   "source": [
    "X_train_t.shape"
   ]
  },
  {
   "cell_type": "code",
   "execution_count": 38,
   "metadata": {},
   "outputs": [],
   "source": [
    "K.clear_session()\n",
    "model = Sequential()\n",
    "\n",
    "model.add(LSTM(6, input_shape=(1, 12)))\n",
    "\n",
    "model.add(Dense(1))\n",
    "\n",
    "model.compile(loss='mean_squared_error', optimizer='adam')"
   ]
  },
  {
   "cell_type": "code",
   "execution_count": 39,
   "metadata": {},
   "outputs": [
    {
     "name": "stdout",
     "output_type": "stream",
     "text": [
      "_________________________________________________________________\n",
      "Layer (type)                 Output Shape              Param #   \n",
      "=================================================================\n",
      "lstm_1 (LSTM)                (None, 6)                 456       \n",
      "_________________________________________________________________\n",
      "dense_1 (Dense)              (None, 1)                 7         \n",
      "=================================================================\n",
      "Total params: 463\n",
      "Trainable params: 463\n",
      "Non-trainable params: 0\n",
      "_________________________________________________________________\n"
     ]
    }
   ],
   "source": [
    "model.summary()"
   ]
  },
  {
   "cell_type": "code",
   "execution_count": 40,
   "metadata": {},
   "outputs": [
    {
     "name": "stdout",
     "output_type": "stream",
     "text": [
      "Epoch 1/100\n",
      "228/228 [==============================] - 1s 4ms/step - loss: 0.1239\n",
      "Epoch 2/100\n",
      "228/228 [==============================] - 0s 2ms/step - loss: 0.0130\n",
      "Epoch 3/100\n",
      "228/228 [==============================] - 0s 2ms/step - loss: 0.0101\n",
      "Epoch 4/100\n",
      "228/228 [==============================] - 0s 2ms/step - loss: 0.0088\n",
      "Epoch 5/100\n",
      "228/228 [==============================] - 0s 2ms/step - loss: 0.0081\n",
      "Epoch 6/100\n",
      "228/228 [==============================] - 1s 2ms/step - loss: 0.0073\n",
      "Epoch 7/100\n",
      "228/228 [==============================] - 1s 2ms/step - loss: 0.0065\n",
      "Epoch 8/100\n",
      "228/228 [==============================] - 0s 2ms/step - loss: 0.0063\n",
      "Epoch 9/100\n",
      "228/228 [==============================] - 1s 2ms/step - loss: 0.0058\n",
      "Epoch 10/100\n",
      "228/228 [==============================] - 0s 2ms/step - loss: 0.0052\n",
      "Epoch 11/100\n",
      "228/228 [==============================] - 0s 2ms/step - loss: 0.0047\n",
      "Epoch 12/100\n",
      "228/228 [==============================] - 0s 2ms/step - loss: 0.0043\n",
      "Epoch 13/100\n",
      "228/228 [==============================] - 0s 2ms/step - loss: 0.0037\n",
      "Epoch 14/100\n",
      "228/228 [==============================] - 0s 2ms/step - loss: 0.0032\n",
      "Epoch 15/100\n",
      "228/228 [==============================] - 0s 2ms/step - loss: 0.0026\n",
      "Epoch 16/100\n",
      "228/228 [==============================] - 0s 2ms/step - loss: 0.0023A: 0s - loss: 0.0\n",
      "Epoch 17/100\n",
      "228/228 [==============================] - 0s 2ms/step - loss: 0.0021\n",
      "Epoch 18/100\n",
      "228/228 [==============================] - 0s 2ms/step - loss: 0.0019\n",
      "Epoch 19/100\n",
      "228/228 [==============================] - 0s 2ms/step - loss: 0.0017\n",
      "Epoch 20/100\n",
      "228/228 [==============================] - 0s 2ms/step - loss: 0.0017\n",
      "Epoch 21/100\n",
      "228/228 [==============================] - 0s 2ms/step - loss: 0.0015\n",
      "Epoch 22/100\n",
      "228/228 [==============================] - 0s 2ms/step - loss: 0.0014\n",
      "Epoch 23/100\n",
      "228/228 [==============================] - 0s 2ms/step - loss: 0.0013\n",
      "Epoch 24/100\n",
      "228/228 [==============================] - 0s 2ms/step - loss: 0.0013\n",
      "Epoch 25/100\n",
      "228/228 [==============================] - 0s 2ms/step - loss: 0.0013\n",
      "Epoch 26/100\n",
      "228/228 [==============================] - 0s 2ms/step - loss: 0.0013\n",
      "Epoch 00026: early stopping\n"
     ]
    },
    {
     "data": {
      "text/plain": [
       "<keras.callbacks.History at 0x12524bd68>"
      ]
     },
     "execution_count": 40,
     "metadata": {},
     "output_type": "execute_result"
    }
   ],
   "source": [
    "model.fit(X_train_t, y_train, epochs=100,\n",
    "          batch_size=1, verbose=1, callbacks=[early_stop])"
   ]
  },
  {
   "cell_type": "code",
   "execution_count": 41,
   "metadata": {},
   "outputs": [
    {
     "data": {
      "text/plain": [
       "[<matplotlib.lines.Line2D at 0x126504470>]"
      ]
     },
     "execution_count": 41,
     "metadata": {},
     "output_type": "execute_result"
    },
    {
     "data": {
      "image/png": "[encoded data removed]",
      "text/plain": [
       "<Figure size 432x288 with 1 Axes>"
      ]
     },
     "metadata": {},
     "output_type": "display_data"
    }
   ],
   "source": [
    "y_pred = model.predict(X_test_t)\n",
    "plt.plot(y_test)\n",
    "plt.plot(y_pred)"
   ]
  },
  {
   "cell_type": "markdown",
   "metadata": {},
   "source": [
    "## Exercise 1\n",
    "\n",
    "In the model above we reshaped the input shape to: `(num_samples, 1, 12)`, i.e. we treated a window of 12 months as a vector of 12 coordinates that we simultaneously passed to all the LSTM nodes. An alternative way to look at the problem is to reshape the input to `(num_samples, 12, 1)`. This means we consider each input window as a sequence of 12 values that we will pass in sequence to the LSTM. In principle this looks like a more accurate description of our situation. But does it yield better predictions? Let's check it.\n",
    "\n",
    "- Reshape `X_train` and `X_test` so that they represent a set of univariate sequences\n",
    "- retrain the same LSTM(6) model, you'll have to adapt the `input_shape`\n",
    "- check the performance of this new model, is it better at predicting the test data?"
   ]
  },
  {
   "cell_type": "code",
   "execution_count": 42,
   "metadata": {},
   "outputs": [],
   "source": [
    "X_train_t = X_train.reshape(X_train.shape[0], 12, 1)\n",
    "X_test_t = X_test.reshape(X_test.shape[0], 12, 1)"
   ]
  },
  {
   "cell_type": "code",
   "execution_count": 43,
   "metadata": {},
   "outputs": [
    {
     "data": {
      "text/plain": [
       "(228, 12, 1)"
      ]
     },
     "execution_count": 43,
     "metadata": {},
     "output_type": "execute_result"
    }
   ],
   "source": [
    "X_train_t.shape"
   ]
  },
  {
   "cell_type": "code",
   "execution_count": 44,
   "metadata": {},
   "outputs": [],
   "source": [
    "K.clear_session()\n",
    "model = Sequential()\n",
    "\n",
    "model.add(LSTM(6, input_shape=(12, 1)))\n",
    "\n",
    "model.add(Dense(1))\n",
    "\n",
    "model.compile(loss='mean_squared_error', optimizer='adam')"
   ]
  },
  {
   "cell_type": "code",
   "execution_count": 45,
   "metadata": {},
   "outputs": [
    {
     "name": "stdout",
     "output_type": "stream",
     "text": [
      "_________________________________________________________________\n",
      "Layer (type)                 Output Shape              Param #   \n",
      "=================================================================\n",
      "lstm_1 (LSTM)                (None, 6)                 192       \n",
      "_________________________________________________________________\n",
      "dense_1 (Dense)              (None, 1)                 7         \n",
      "=================================================================\n",
      "Total params: 199\n",
      "Trainable params: 199\n",
      "Non-trainable params: 0\n",
      "_________________________________________________________________\n"
     ]
    }
   ],
   "source": [
    "model.summary()"
   ]
  },
  {
   "cell_type": "code",
   "execution_count": 46,
   "metadata": {},
   "outputs": [
    {
     "name": "stdout",
     "output_type": "stream",
     "text": [
      "Epoch 1/100\n",
      "228/228 [==============================] - 2s 11ms/step - loss: 0.1650\n",
      "Epoch 2/100\n",
      "228/228 [==============================] - 2s 9ms/step - loss: 0.0269\n",
      "Epoch 3/100\n",
      "228/228 [==============================] - 2s 9ms/step - loss: 0.0116\n",
      "Epoch 4/100\n",
      "228/228 [==============================] - 2s 9ms/step - loss: 0.0085\n",
      "Epoch 5/100\n",
      "228/228 [==============================] - 2s 9ms/step - loss: 0.0082\n",
      "Epoch 6/100\n",
      "228/228 [==============================] - 2s 9ms/step - loss: 0.0078\n",
      "Epoch 7/100\n",
      "228/228 [==============================] - 2s 9ms/step - loss: 0.0079\n",
      "Epoch 8/100\n",
      "228/228 [==============================] - 2s 8ms/step - loss: 0.0076\n",
      "Epoch 9/100\n",
      "228/228 [==============================] - 2s 9ms/step - loss: 0.0075\n",
      "Epoch 10/100\n",
      "228/228 [==============================] - 2s 9ms/step - loss: 0.0071\n",
      "Epoch 11/100\n",
      "228/228 [==============================] - 2s 8ms/step - loss: 0.0073\n",
      "Epoch 12/100\n",
      "228/228 [==============================] - 2s 8ms/step - loss: 0.0071\n",
      "Epoch 13/100\n",
      "228/228 [==============================] - 2s 9ms/step - loss: 0.0068\n",
      "Epoch 14/100\n",
      "228/228 [==============================] - 2s 9ms/step - loss: 0.0067\n",
      "Epoch 15/100\n",
      "228/228 [==============================] - 2s 9ms/step - loss: 0.0064\n",
      "Epoch 16/100\n",
      "228/228 [==============================] - 2s 9ms/step - loss: 0.0065\n",
      "Epoch 17/100\n",
      "228/228 [==============================] - 2s 9ms/step - loss: 0.0061\n",
      "Epoch 18/100\n",
      "228/228 [==============================] - 2s 9ms/step - loss: 0.0059\n",
      "Epoch 19/100\n",
      "228/228 [==============================] - 2s 9ms/step - loss: 0.0059\n",
      "Epoch 20/100\n",
      "228/228 [==============================] - 2s 9ms/step - loss: 0.0054\n",
      "Epoch 21/100\n",
      "228/228 [==============================] - 2s 9ms/step - loss: 0.0053\n",
      "Epoch 22/100\n",
      "228/228 [==============================] - 2s 9ms/step - loss: 0.0053\n",
      "Epoch 23/100\n",
      "228/228 [==============================] - 2s 9ms/step - loss: 0.0046\n",
      "Epoch 24/100\n",
      "228/228 [==============================] - 2s 9ms/step - loss: 0.0043\n",
      "Epoch 25/100\n",
      "228/228 [==============================] - 2s 9ms/step - loss: 0.0038\n",
      "Epoch 26/100\n",
      "228/228 [==============================] - 2s 9ms/step - loss: 0.0035\n",
      "Epoch 27/100\n",
      "228/228 [==============================] - 2s 9ms/step - loss: 0.0030\n",
      "Epoch 28/100\n",
      "228/228 [==============================] - 2s 9ms/step - loss: 0.0027\n",
      "Epoch 29/100\n",
      "228/228 [==============================] - 2s 8ms/step - loss: 0.0023\n",
      "Epoch 30/100\n",
      "228/228 [==============================] - 2s 8ms/step - loss: 0.0019\n",
      "Epoch 31/100\n",
      "228/228 [==============================] - 2s 8ms/step - loss: 0.0017\n",
      "Epoch 32/100\n",
      "228/228 [==============================] - 2s 8ms/step - loss: 0.0014\n",
      "Epoch 33/100\n",
      "228/228 [==============================] - 2s 8ms/step - loss: 0.0013\n",
      "Epoch 34/100\n",
      "228/228 [==============================] - 2s 8ms/step - loss: 0.0012\n",
      "Epoch 35/100\n",
      "228/228 [==============================] - 2s 8ms/step - loss: 0.0011\n",
      "Epoch 36/100\n",
      "228/228 [==============================] - 2s 9ms/step - loss: 0.0012\n",
      "Epoch 37/100\n",
      "228/228 [==============================] - 2s 10ms/step - loss: 0.0011\n",
      "Epoch 38/100\n",
      "228/228 [==============================] - 2s 9ms/step - loss: 0.0011\n",
      "Epoch 39/100\n",
      "228/228 [==============================] - 2s 9ms/step - loss: 0.0011\n",
      "Epoch 40/100\n",
      "228/228 [==============================] - 2s 9ms/step - loss: 0.0011\n",
      "Epoch 41/100\n",
      "228/228 [==============================] - 2s 9ms/step - loss: 0.0011\n",
      "Epoch 42/100\n",
      "228/228 [==============================] - 2s 8ms/step - loss: 0.0011\n",
      "Epoch 43/100\n",
      "228/228 [==============================] - 2s 9ms/step - loss: 9.8746e-04\n",
      "Epoch 44/100\n",
      "228/228 [==============================] - 2s 9ms/step - loss: 9.7582e-04\n",
      "Epoch 45/100\n",
      "228/228 [==============================] - 2s 9ms/step - loss: 0.0010\n",
      "Epoch 46/100\n",
      "228/228 [==============================] - 2s 9ms/step - loss: 0.0010\n",
      "Epoch 47/100\n",
      "228/228 [==============================] - 2s 9ms/step - loss: 0.0010\n",
      "Epoch 48/100\n",
      "228/228 [==============================] - 2s 8ms/step - loss: 0.0010\n",
      "Epoch 49/100\n",
      "228/228 [==============================] - 2s 8ms/step - loss: 9.7292e-04\n",
      "Epoch 50/100\n",
      "228/228 [==============================] - 2s 9ms/step - loss: 0.0011\n",
      "Epoch 51/100\n",
      "228/228 [==============================] - 2s 9ms/step - loss: 0.0011\n",
      "Epoch 52/100\n",
      "228/228 [==============================] - 2s 9ms/step - loss: 0.0011\n",
      "Epoch 53/100\n",
      "228/228 [==============================] - 2s 9ms/step - loss: 9.9279e-04\n",
      "Epoch 54/100\n",
      "228/228 [==============================] - 2s 8ms/step - loss: 0.0010\n",
      "Epoch 55/100\n",
      "228/228 [==============================] - 2s 9ms/step - loss: 0.0010\n",
      "Epoch 56/100\n",
      "228/228 [==============================] - 2s 9ms/step - loss: 9.8876e-04\n",
      "Epoch 57/100\n",
      "228/228 [==============================] - 2s 9ms/step - loss: 0.0010\n",
      "Epoch 58/100\n",
      "228/228 [==============================] - 2s 9ms/step - loss: 0.0010\n",
      "Epoch 59/100\n",
      "228/228 [==============================] - 2s 9ms/step - loss: 0.0010\n",
      "Epoch 60/100\n",
      "228/228 [==============================] - 2s 9ms/step - loss: 9.7617e-04\n",
      "Epoch 61/100\n",
      "228/228 [==============================] - 2s 8ms/step - loss: 0.0010\n",
      "Epoch 62/100\n",
      "228/228 [==============================] - 2s 9ms/step - loss: 0.0010\n",
      "Epoch 63/100\n",
      "228/228 [==============================] - 2s 9ms/step - loss: 9.3184e-04\n",
      "Epoch 64/100\n",
      "228/228 [==============================] - 2s 8ms/step - loss: 9.8928e-04\n",
      "Epoch 65/100\n",
      "228/228 [==============================] - 2s 8ms/step - loss: 9.6248e-04\n",
      "Epoch 66/100\n",
      "228/228 [==============================] - 2s 8ms/step - loss: 0.0011\n",
      "Epoch 67/100\n",
      "228/228 [==============================] - 2s 8ms/step - loss: 0.0010\n",
      "Epoch 68/100\n",
      "228/228 [==============================] - 2s 8ms/step - loss: 9.4682e-04\n",
      "Epoch 69/100\n",
      "228/228 [==============================] - 2s 9ms/step - loss: 0.0010\n",
      "Epoch 70/100\n",
      "228/228 [==============================] - 2s 9ms/step - loss: 9.8289e-04\n",
      "Epoch 71/100\n",
      "228/228 [==============================] - 2s 9ms/step - loss: 9.7129e-04\n",
      "Epoch 72/100\n",
      "228/228 [==============================] - 2s 9ms/step - loss: 0.0011\n",
      "Epoch 73/100\n",
      "228/228 [==============================] - 2s 8ms/step - loss: 0.0010\n",
      "Epoch 74/100\n",
      "228/228 [==============================] - 2s 9ms/step - loss: 0.0010\n",
      "Epoch 75/100\n",
      "228/228 [==============================] - 2s 9ms/step - loss: 0.0010\n",
      "Epoch 76/100\n",
      "228/228 [==============================] - 2s 9ms/step - loss: 0.0010\n",
      "Epoch 77/100\n",
      "228/228 [==============================] - 2s 9ms/step - loss: 9.6340e-04\n",
      "Epoch 78/100\n",
      "228/228 [==============================] - 2s 9ms/step - loss: 9.4859e-04\n",
      "Epoch 79/100\n",
      "228/228 [==============================] - 2s 9ms/step - loss: 9.8247e-04\n",
      "Epoch 80/100\n",
      "228/228 [==============================] - 2s 8ms/step - loss: 9.5864e-04\n",
      "Epoch 81/100\n",
      "228/228 [==============================] - 2s 9ms/step - loss: 9.9635e-04\n",
      "Epoch 82/100\n",
      "228/228 [==============================] - 2s 8ms/step - loss: 9.8249e-04\n",
      "Epoch 83/100\n",
      "228/228 [==============================] - 2s 8ms/step - loss: 9.4197e-04\n",
      "Epoch 84/100\n",
      "228/228 [==============================] - 2s 8ms/step - loss: 9.6934e-04\n",
      "Epoch 85/100\n",
      "228/228 [==============================] - 2s 8ms/step - loss: 9.0422e-04\n",
      "Epoch 86/100\n",
      "228/228 [==============================] - 2s 8ms/step - loss: 9.2127e-04\n",
      "Epoch 87/100\n",
      "228/228 [==============================] - 2s 8ms/step - loss: 0.0010\n",
      "Epoch 88/100\n",
      "228/228 [==============================] - 2s 9ms/step - loss: 9.2938e-04\n",
      "Epoch 89/100\n",
      "228/228 [==============================] - 2s 8ms/step - loss: 9.3738e-04\n",
      "Epoch 90/100\n",
      "228/228 [==============================] - 2s 8ms/step - loss: 9.6153e-04\n",
      "Epoch 91/100\n",
      "228/228 [==============================] - 2s 8ms/step - loss: 9.7764e-04\n",
      "Epoch 92/100\n",
      "228/228 [==============================] - 2s 8ms/step - loss: 9.4922e-04\n",
      "Epoch 93/100\n",
      "228/228 [==============================] - 2s 8ms/step - loss: 9.4592e-04\n",
      "Epoch 94/100\n",
      "228/228 [==============================] - 2s 7ms/step - loss: 0.0010\n",
      "Epoch 95/100\n",
      "228/228 [==============================] - 2s 7ms/step - loss: 9.0522e-04\n",
      "Epoch 96/100\n",
      "228/228 [==============================] - 2s 8ms/step - loss: 9.5695e-04\n",
      "Epoch 97/100\n",
      "228/228 [==============================] - 2s 9ms/step - loss: 9.7281e-04\n",
      "Epoch 98/100\n"
     ]
    },
    {
     "name": "stdout",
     "output_type": "stream",
     "text": [
      "228/228 [==============================] - 2s 8ms/step - loss: 9.0920e-04\n",
      "Epoch 99/100\n",
      "228/228 [==============================] - 2s 9ms/step - loss: 9.4522e-04\n",
      "Epoch 100/100\n",
      "228/228 [==============================] - 2s 9ms/step - loss: 9.5364e-04\n"
     ]
    },
    {
     "data": {
      "text/plain": [
       "<keras.callbacks.History at 0x125169ac8>"
      ]
     },
     "execution_count": 46,
     "metadata": {},
     "output_type": "execute_result"
    }
   ],
   "source": [
    "model.fit(X_train_t, y_train, epochs=100,\n",
    "          batch_size=1, verbose=1)"
   ]
  },
  {
   "cell_type": "code",
   "execution_count": 47,
   "metadata": {},
   "outputs": [
    {
     "data": {
      "text/plain": [
       "[<matplotlib.lines.Line2D at 0x1279005c0>]"
      ]
     },
     "execution_count": 47,
     "metadata": {},
     "output_type": "execute_result"
    },
    {
     "data": {
      "image/png": "[encoded data removed]",
      "text/plain": [
       "<Figure size 432x288 with 1 Axes>"
      ]
     },
     "metadata": {},
     "output_type": "display_data"
    }
   ],
   "source": [
    "y_pred = model.predict(X_test_t)\n",
    "plt.plot(y_test)\n",
    "plt.plot(y_pred)"
   ]
  },
  {
   "cell_type": "markdown",
   "metadata": {},
   "source": [
    "I has definitely performed better"
   ]
  },
  {
   "cell_type": "markdown",
   "metadata": {
    "collapsed": true
   },
   "source": [
    "## Exercise 2\n",
    "\n",
    "RNN models can be applied to images too. In general we can apply them to any data where there's a connnection between nearby units. Let's see how we can easily build a model that works with images.\n",
    "\n",
    "- Load the MNIST data, by now you should be able to do it blindfolded :)\n",
    "- reshape it so that an image looks like a long sequence of pixels\n",
    "- create a recurrent model and train it on the training data\n",
    "- how does it perform compared to a fully connected? How does it compare to Convolutional Neural Networks?\n",
    "\n",
    "(feel free to run this exercise on a cloud GPU if it's too slow on your laptop)"
   ]
  },
  {
   "cell_type": "code",
   "execution_count": 48,
   "metadata": {},
   "outputs": [],
   "source": [
    "from keras.datasets import mnist\n",
    "from keras.utils import to_categorical\n",
    "import ssl"
   ]
  },
  {
   "cell_type": "code",
   "execution_count": 49,
   "metadata": {},
   "outputs": [],
   "source": [
    "ssl._create_default_https_context = ssl._create_unverified_context"
   ]
  },
  {
   "cell_type": "code",
   "execution_count": 50,
   "metadata": {},
   "outputs": [],
   "source": [
    "(X_train, y_train), (X_test, y_test) = mnist.load_data()"
   ]
  },
  {
   "cell_type": "code",
   "execution_count": 51,
   "metadata": {},
   "outputs": [
    {
     "data": {
      "text/plain": [
       "(60000, 28, 28)"
      ]
     },
     "execution_count": 51,
     "metadata": {},
     "output_type": "execute_result"
    }
   ],
   "source": [
    "X_train.shape"
   ]
  },
  {
   "cell_type": "code",
   "execution_count": 52,
   "metadata": {},
   "outputs": [],
   "source": [
    "X_train = X_train.astype('float32') / 255.0\n",
    "X_test = X_test.astype('float32') / 255.0\n",
    "y_train_cat = to_categorical(y_train)\n",
    "y_test_cat = to_categorical(y_test)"
   ]
  },
  {
   "cell_type": "code",
   "execution_count": 53,
   "metadata": {},
   "outputs": [],
   "source": [
    "X_train = X_train.reshape(X_train.shape[0], -1, 1)\n",
    "X_test = X_test.reshape(X_test.shape[0], -1, 1)"
   ]
  },
  {
   "cell_type": "code",
   "execution_count": 54,
   "metadata": {},
   "outputs": [
    {
     "data": {
      "text/plain": [
       "(60000, 784, 1)"
      ]
     },
     "execution_count": 54,
     "metadata": {},
     "output_type": "execute_result"
    }
   ],
   "source": [
    "X_train.shape"
   ]
  },
  {
   "cell_type": "code",
   "execution_count": 67,
   "metadata": {},
   "outputs": [],
   "source": [
    "K.clear_session()\n",
    "model = Sequential()\n",
    "model.add(LSTM(6, input_shape=X_train.shape[1:]))\n",
    "model.add(Dense(10, activation='softmax'))"
   ]
  },
  {
   "cell_type": "code",
   "execution_count": 68,
   "metadata": {},
   "outputs": [
    {
     "name": "stdout",
     "output_type": "stream",
     "text": [
      "_________________________________________________________________\n",
      "Layer (type)                 Output Shape              Param #   \n",
      "=================================================================\n",
      "lstm_1 (LSTM)                (None, 6)                 192       \n",
      "_________________________________________________________________\n",
      "dense_1 (Dense)              (None, 10)                70        \n",
      "=================================================================\n",
      "Total params: 262\n",
      "Trainable params: 262\n",
      "Non-trainable params: 0\n",
      "_________________________________________________________________\n"
     ]
    }
   ],
   "source": [
    "model.summary()"
   ]
  },
  {
   "cell_type": "code",
   "execution_count": 69,
   "metadata": {},
   "outputs": [],
   "source": [
    "model.compile(loss='categorical_crossentropy',\n",
    "              optimizer='adam',\n",
    "              metrics=['accuracy'])"
   ]
  },
  {
   "cell_type": "code",
   "execution_count": 70,
   "metadata": {},
   "outputs": [
    {
     "name": "stdout",
     "output_type": "stream",
     "text": [
      "Epoch 1/5\n",
      "60000/60000 [==============================] - 35s 581us/step - loss: 2.3020 - acc: 0.1087\n",
      "Epoch 2/5\n",
      "60000/60000 [==============================] - 35s 576us/step - loss: 2.3013 - acc: 0.1124\n",
      "Epoch 3/5\n",
      "60000/60000 [==============================] - 35s 591us/step - loss: 2.3012 - acc: 0.1124\n",
      "Epoch 4/5\n",
      "60000/60000 [==============================] - 38s 626us/step - loss: 2.3012 - acc: 0.1124\n",
      "Epoch 5/5\n",
      "60000/60000 [==============================] - 38s 634us/step - loss: 2.3012 - acc: 0.1124\n"
     ]
    },
    {
     "data": {
      "text/plain": [
       "<keras.callbacks.History at 0x13c8bb668>"
      ]
     },
     "execution_count": 70,
     "metadata": {},
     "output_type": "execute_result"
    }
   ],
   "source": [
    "model.fit(X_train, y_train_cat,\n",
    "          batch_size=1000,\n",
    "          epochs=5,\n",
    "          verbose=1,\n",
    "          callbacks=[early_stop]\n",
    "          )"
   ]
  },
  {
   "cell_type": "code",
   "execution_count": 71,
   "metadata": {},
   "outputs": [
    {
     "name": "stdout",
     "output_type": "stream",
     "text": [
      "10000/10000 [==============================] - 26s 3ms/step\n"
     ]
    },
    {
     "data": {
      "text/plain": [
       "[2.3009714248657227, 0.1135]"
      ]
     },
     "execution_count": 71,
     "metadata": {},
     "output_type": "execute_result"
    }
   ],
   "source": [
    "model.evaluate(X_test, y_test_cat)"
   ]
  },
  {
   "cell_type": "code",
   "execution_count": null,
   "metadata": {},
   "outputs": [],
   "source": []
  }
 ],
 "metadata": {
  "kernelspec": {
   "display_name": "Python 3",
   "language": "python",
   "name": "python3"
  },
  "language_info": {
   "codemirror_mode": {
    "name": "ipython",
    "version": 3
   },
   "file_extension": ".py",
   "mimetype": "text/x-python",
   "name": "python",
   "nbconvert_exporter": "python",
   "pygments_lexer": "ipython3",
   "version": "3.6.5"
  }
 },
 "nbformat": 4,
 "nbformat_minor": 2
}
